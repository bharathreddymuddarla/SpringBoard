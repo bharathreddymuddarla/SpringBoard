{
 "cells": [
  {
   "cell_type": "code",
   "execution_count": 178,
   "metadata": {},
   "outputs": [],
   "source": [
    "import pandas as pd"
   ]
  },
  {
   "cell_type": "code",
   "execution_count": 179,
   "metadata": {},
   "outputs": [],
   "source": [
    "train_data_file = '/Users/mackbookair/Desktop/Git/CapStone/CapstoneProject/TestData/allstate-purchase-prediction-challenge-datawargling/train.csv'"
   ]
  },
  {
   "cell_type": "code",
   "execution_count": 180,
   "metadata": {},
   "outputs": [],
   "source": [
    "train_df = pd.read_csv(train_data_file)"
   ]
  },
  {
   "cell_type": "code",
   "execution_count": 181,
   "metadata": {},
   "outputs": [
    {
     "data": {
      "text/html": [
       "<div>\n",
       "<style scoped>\n",
       "    .dataframe tbody tr th:only-of-type {\n",
       "        vertical-align: middle;\n",
       "    }\n",
       "\n",
       "    .dataframe tbody tr th {\n",
       "        vertical-align: top;\n",
       "    }\n",
       "\n",
       "    .dataframe thead th {\n",
       "        text-align: right;\n",
       "    }\n",
       "</style>\n",
       "<table border=\"1\" class=\"dataframe\">\n",
       "  <thead>\n",
       "    <tr style=\"text-align: right;\">\n",
       "      <th></th>\n",
       "      <th>customer_ID</th>\n",
       "      <th>shopping_pt</th>\n",
       "      <th>record_type</th>\n",
       "      <th>day</th>\n",
       "      <th>time</th>\n",
       "      <th>state</th>\n",
       "      <th>location</th>\n",
       "      <th>group_size</th>\n",
       "      <th>homeowner</th>\n",
       "      <th>car_age</th>\n",
       "      <th>...</th>\n",
       "      <th>C_previous</th>\n",
       "      <th>duration_previous</th>\n",
       "      <th>A</th>\n",
       "      <th>B</th>\n",
       "      <th>C</th>\n",
       "      <th>D</th>\n",
       "      <th>E</th>\n",
       "      <th>F</th>\n",
       "      <th>G</th>\n",
       "      <th>cost</th>\n",
       "    </tr>\n",
       "  </thead>\n",
       "  <tbody>\n",
       "    <tr>\n",
       "      <td>0</td>\n",
       "      <td>10000000</td>\n",
       "      <td>1</td>\n",
       "      <td>0</td>\n",
       "      <td>0</td>\n",
       "      <td>08:35</td>\n",
       "      <td>IN</td>\n",
       "      <td>10001</td>\n",
       "      <td>2</td>\n",
       "      <td>0</td>\n",
       "      <td>2</td>\n",
       "      <td>...</td>\n",
       "      <td>1.0</td>\n",
       "      <td>2.0</td>\n",
       "      <td>1</td>\n",
       "      <td>0</td>\n",
       "      <td>2</td>\n",
       "      <td>2</td>\n",
       "      <td>1</td>\n",
       "      <td>2</td>\n",
       "      <td>2</td>\n",
       "      <td>633</td>\n",
       "    </tr>\n",
       "    <tr>\n",
       "      <td>1</td>\n",
       "      <td>10000000</td>\n",
       "      <td>2</td>\n",
       "      <td>0</td>\n",
       "      <td>0</td>\n",
       "      <td>08:38</td>\n",
       "      <td>IN</td>\n",
       "      <td>10001</td>\n",
       "      <td>2</td>\n",
       "      <td>0</td>\n",
       "      <td>2</td>\n",
       "      <td>...</td>\n",
       "      <td>1.0</td>\n",
       "      <td>2.0</td>\n",
       "      <td>1</td>\n",
       "      <td>0</td>\n",
       "      <td>2</td>\n",
       "      <td>2</td>\n",
       "      <td>1</td>\n",
       "      <td>2</td>\n",
       "      <td>1</td>\n",
       "      <td>630</td>\n",
       "    </tr>\n",
       "    <tr>\n",
       "      <td>2</td>\n",
       "      <td>10000000</td>\n",
       "      <td>3</td>\n",
       "      <td>0</td>\n",
       "      <td>0</td>\n",
       "      <td>08:38</td>\n",
       "      <td>IN</td>\n",
       "      <td>10001</td>\n",
       "      <td>2</td>\n",
       "      <td>0</td>\n",
       "      <td>2</td>\n",
       "      <td>...</td>\n",
       "      <td>1.0</td>\n",
       "      <td>2.0</td>\n",
       "      <td>1</td>\n",
       "      <td>0</td>\n",
       "      <td>2</td>\n",
       "      <td>2</td>\n",
       "      <td>1</td>\n",
       "      <td>2</td>\n",
       "      <td>1</td>\n",
       "      <td>630</td>\n",
       "    </tr>\n",
       "    <tr>\n",
       "      <td>3</td>\n",
       "      <td>10000000</td>\n",
       "      <td>4</td>\n",
       "      <td>0</td>\n",
       "      <td>0</td>\n",
       "      <td>08:39</td>\n",
       "      <td>IN</td>\n",
       "      <td>10001</td>\n",
       "      <td>2</td>\n",
       "      <td>0</td>\n",
       "      <td>2</td>\n",
       "      <td>...</td>\n",
       "      <td>1.0</td>\n",
       "      <td>2.0</td>\n",
       "      <td>1</td>\n",
       "      <td>0</td>\n",
       "      <td>2</td>\n",
       "      <td>2</td>\n",
       "      <td>1</td>\n",
       "      <td>2</td>\n",
       "      <td>1</td>\n",
       "      <td>630</td>\n",
       "    </tr>\n",
       "    <tr>\n",
       "      <td>4</td>\n",
       "      <td>10000000</td>\n",
       "      <td>5</td>\n",
       "      <td>0</td>\n",
       "      <td>0</td>\n",
       "      <td>11:55</td>\n",
       "      <td>IN</td>\n",
       "      <td>10001</td>\n",
       "      <td>2</td>\n",
       "      <td>0</td>\n",
       "      <td>2</td>\n",
       "      <td>...</td>\n",
       "      <td>1.0</td>\n",
       "      <td>2.0</td>\n",
       "      <td>1</td>\n",
       "      <td>0</td>\n",
       "      <td>2</td>\n",
       "      <td>2</td>\n",
       "      <td>1</td>\n",
       "      <td>2</td>\n",
       "      <td>1</td>\n",
       "      <td>630</td>\n",
       "    </tr>\n",
       "  </tbody>\n",
       "</table>\n",
       "<p>5 rows × 25 columns</p>\n",
       "</div>"
      ],
      "text/plain": [
       "   customer_ID  shopping_pt  record_type  day   time state  location  \\\n",
       "0     10000000            1            0    0  08:35    IN     10001   \n",
       "1     10000000            2            0    0  08:38    IN     10001   \n",
       "2     10000000            3            0    0  08:38    IN     10001   \n",
       "3     10000000            4            0    0  08:39    IN     10001   \n",
       "4     10000000            5            0    0  11:55    IN     10001   \n",
       "\n",
       "   group_size  homeowner  car_age  ... C_previous  duration_previous  A  B  C  \\\n",
       "0           2          0        2  ...        1.0                2.0  1  0  2   \n",
       "1           2          0        2  ...        1.0                2.0  1  0  2   \n",
       "2           2          0        2  ...        1.0                2.0  1  0  2   \n",
       "3           2          0        2  ...        1.0                2.0  1  0  2   \n",
       "4           2          0        2  ...        1.0                2.0  1  0  2   \n",
       "\n",
       "   D  E  F  G  cost  \n",
       "0  2  1  2  2   633  \n",
       "1  2  1  2  1   630  \n",
       "2  2  1  2  1   630  \n",
       "3  2  1  2  1   630  \n",
       "4  2  1  2  1   630  \n",
       "\n",
       "[5 rows x 25 columns]"
      ]
     },
     "execution_count": 181,
     "metadata": {},
     "output_type": "execute_result"
    }
   ],
   "source": [
    "train_df.head()"
   ]
  },
  {
   "cell_type": "code",
   "execution_count": 182,
   "metadata": {},
   "outputs": [
    {
     "data": {
      "text/plain": [
       "Index(['customer_ID', 'shopping_pt', 'record_type', 'day', 'time', 'state',\n",
       "       'location', 'group_size', 'homeowner', 'car_age', 'car_value',\n",
       "       'risk_factor', 'age_oldest', 'age_youngest', 'married_couple',\n",
       "       'C_previous', 'duration_previous', 'A', 'B', 'C', 'D', 'E', 'F', 'G',\n",
       "       'cost'],\n",
       "      dtype='object')"
      ]
     },
     "execution_count": 182,
     "metadata": {},
     "output_type": "execute_result"
    }
   ],
   "source": [
    "train_df.columns"
   ]
  },
  {
   "cell_type": "code",
   "execution_count": 183,
   "metadata": {},
   "outputs": [
    {
     "name": "stdout",
     "output_type": "stream",
     "text": [
      "<class 'pandas.core.frame.DataFrame'>\n",
      "RangeIndex: 665249 entries, 0 to 665248\n",
      "Data columns (total 25 columns):\n",
      "customer_ID          665249 non-null int64\n",
      "shopping_pt          665249 non-null int64\n",
      "record_type          665249 non-null int64\n",
      "day                  665249 non-null int64\n",
      "time                 665249 non-null object\n",
      "state                665249 non-null object\n",
      "location             665249 non-null int64\n",
      "group_size           665249 non-null int64\n",
      "homeowner            665249 non-null int64\n",
      "car_age              665249 non-null int64\n",
      "car_value            663718 non-null object\n",
      "risk_factor          424831 non-null float64\n",
      "age_oldest           665249 non-null int64\n",
      "age_youngest         665249 non-null int64\n",
      "married_couple       665249 non-null int64\n",
      "C_previous           646538 non-null float64\n",
      "duration_previous    646538 non-null float64\n",
      "A                    665249 non-null int64\n",
      "B                    665249 non-null int64\n",
      "C                    665249 non-null int64\n",
      "D                    665249 non-null int64\n",
      "E                    665249 non-null int64\n",
      "F                    665249 non-null int64\n",
      "G                    665249 non-null int64\n",
      "cost                 665249 non-null int64\n",
      "dtypes: float64(3), int64(19), object(3)\n",
      "memory usage: 126.9+ MB\n"
     ]
    }
   ],
   "source": [
    "train_df.info()"
   ]
  },
  {
   "cell_type": "markdown",
   "metadata": {},
   "source": [
    "Observations:\n",
    "1. 665249 records\n",
    "2. 25 columns\n",
    "3. time column is identified as object\n",
    "3. Following columns have NA -\n",
    "    car_value,\n",
    "    risk_factor,\n",
    "    C_previous,\n",
    "    duration_previous\n",
    "4. column name 'customer_ID' is inconsistent\n"
   ]
  },
  {
   "cell_type": "code",
   "execution_count": 248,
   "metadata": {},
   "outputs": [],
   "source": [
    "# changing the customer_ID column name to customer_id\n",
    "train_df.rename(columns={'customer_ID':'customer_id'},inplace = True)"
   ]
  },
  {
   "cell_type": "code",
   "execution_count": 249,
   "metadata": {},
   "outputs": [
    {
     "data": {
      "text/plain": [
       "Index(['customer_id', 'shopping_pt', 'record_type', 'day', 'time', 'state',\n",
       "       'location', 'group_size', 'homeowner', 'car_age', 'car_value',\n",
       "       'risk_factor', 'age_oldest', 'age_youngest', 'married_couple',\n",
       "       'C_previous', 'duration_previous', 'A', 'B', 'C', 'D', 'E', 'F', 'G',\n",
       "       'cost'],\n",
       "      dtype='object')"
      ]
     },
     "execution_count": 249,
     "metadata": {},
     "output_type": "execute_result"
    }
   ],
   "source": [
    "train_df.columns"
   ]
  },
  {
   "cell_type": "code",
   "execution_count": 186,
   "metadata": {},
   "outputs": [],
   "source": [
    "#dropping the na rows\n",
    "train_df_clean = train_df.dropna()"
   ]
  },
  {
   "cell_type": "code",
   "execution_count": 187,
   "metadata": {},
   "outputs": [
    {
     "name": "stdout",
     "output_type": "stream",
     "text": [
      "<class 'pandas.core.frame.DataFrame'>\n",
      "Int64Index: 417447 entries, 0 to 665242\n",
      "Data columns (total 25 columns):\n",
      "customer_id          417447 non-null int64\n",
      "shopping_pt          417447 non-null int64\n",
      "record_type          417447 non-null int64\n",
      "day                  417447 non-null int64\n",
      "time                 417447 non-null object\n",
      "state                417447 non-null object\n",
      "location             417447 non-null int64\n",
      "group_size           417447 non-null int64\n",
      "homeowner            417447 non-null int64\n",
      "car_age              417447 non-null int64\n",
      "car_value            417447 non-null object\n",
      "risk_factor          417447 non-null float64\n",
      "age_oldest           417447 non-null int64\n",
      "age_youngest         417447 non-null int64\n",
      "married_couple       417447 non-null int64\n",
      "C_previous           417447 non-null float64\n",
      "duration_previous    417447 non-null float64\n",
      "A                    417447 non-null int64\n",
      "B                    417447 non-null int64\n",
      "C                    417447 non-null int64\n",
      "D                    417447 non-null int64\n",
      "E                    417447 non-null int64\n",
      "F                    417447 non-null int64\n",
      "G                    417447 non-null int64\n",
      "cost                 417447 non-null int64\n",
      "dtypes: float64(3), int64(19), object(3)\n",
      "memory usage: 82.8+ MB\n"
     ]
    }
   ],
   "source": [
    "train_df_clean.info()"
   ]
  },
  {
   "cell_type": "code",
   "execution_count": 219,
   "metadata": {},
   "outputs": [],
   "source": [
    "train_df_clean = train_df_clean.drop_duplicates()"
   ]
  },
  {
   "cell_type": "code",
   "execution_count": 220,
   "metadata": {},
   "outputs": [
    {
     "name": "stdout",
     "output_type": "stream",
     "text": [
      "<class 'pandas.core.frame.DataFrame'>\n",
      "Int64Index: 417447 entries, 0 to 665242\n",
      "Data columns (total 25 columns):\n",
      "customer_id          417447 non-null int64\n",
      "shopping_pt          417447 non-null int64\n",
      "record_type          417447 non-null int64\n",
      "day                  417447 non-null int64\n",
      "time                 417447 non-null object\n",
      "state                417447 non-null category\n",
      "location             417447 non-null int64\n",
      "group_size           417447 non-null int64\n",
      "homeowner            417447 non-null int64\n",
      "car_age              417447 non-null int64\n",
      "car_value            417447 non-null object\n",
      "risk_factor          417447 non-null float64\n",
      "age_oldest           417447 non-null int64\n",
      "age_youngest         417447 non-null int64\n",
      "married_couple       417447 non-null category\n",
      "C_previous           417447 non-null float64\n",
      "duration_previous    417447 non-null float64\n",
      "A                    417447 non-null int64\n",
      "B                    417447 non-null int64\n",
      "C                    417447 non-null int64\n",
      "D                    417447 non-null int64\n",
      "E                    417447 non-null int64\n",
      "F                    417447 non-null int64\n",
      "G                    417447 non-null int64\n",
      "cost                 417447 non-null int64\n",
      "dtypes: category(2), float64(3), int64(18), object(2)\n",
      "memory usage: 77.2+ MB\n"
     ]
    }
   ],
   "source": [
    "train_df_clean.info()"
   ]
  },
  {
   "cell_type": "markdown",
   "metadata": {},
   "source": [
    "No duplicates were observed"
   ]
  },
  {
   "cell_type": "code",
   "execution_count": 250,
   "metadata": {},
   "outputs": [
    {
     "data": {
      "text/plain": [
       "array([3., 4., 2., 1.])"
      ]
     },
     "execution_count": 250,
     "metadata": {},
     "output_type": "execute_result"
    }
   ],
   "source": [
    "train_df_clean.risk_factor.unique()"
   ]
  },
  {
   "cell_type": "code",
   "execution_count": 253,
   "metadata": {},
   "outputs": [],
   "source": [
    "train_df_clean['risk_factor'] = train_df_clean['risk_factor'].astype('int')"
   ]
  },
  {
   "cell_type": "code",
   "execution_count": 256,
   "metadata": {},
   "outputs": [
    {
     "name": "stdout",
     "output_type": "stream",
     "text": [
      "<class 'pandas.core.frame.DataFrame'>\n",
      "Int64Index: 417447 entries, 0 to 665242\n",
      "Data columns (total 25 columns):\n",
      "customer_id          417447 non-null int64\n",
      "shopping_pt          417447 non-null int64\n",
      "record_type          417447 non-null int64\n",
      "day                  417447 non-null int64\n",
      "time                 417447 non-null object\n",
      "state                417447 non-null category\n",
      "location             417447 non-null int64\n",
      "group_size           417447 non-null int64\n",
      "homeowner            417447 non-null int64\n",
      "car_age              417447 non-null int64\n",
      "car_value            417447 non-null object\n",
      "risk_factor          417447 non-null int64\n",
      "age_oldest           417447 non-null int64\n",
      "age_youngest         417447 non-null int64\n",
      "married_couple       417447 non-null category\n",
      "C_previous           417447 non-null float64\n",
      "duration_previous    417447 non-null float64\n",
      "A                    417447 non-null int64\n",
      "B                    417447 non-null int64\n",
      "C                    417447 non-null int64\n",
      "D                    417447 non-null int64\n",
      "E                    417447 non-null int64\n",
      "F                    417447 non-null int64\n",
      "G                    417447 non-null int64\n",
      "cost                 417447 non-null int64\n",
      "dtypes: category(2), float64(2), int64(19), object(2)\n",
      "memory usage: 77.2+ MB\n"
     ]
    }
   ],
   "source": [
    "train_df_clean.info()"
   ]
  },
  {
   "cell_type": "code",
   "execution_count": 192,
   "metadata": {},
   "outputs": [
    {
     "data": {
      "text/plain": [
       "array([1., 3., 2., 4.])"
      ]
     },
     "execution_count": 192,
     "metadata": {},
     "output_type": "execute_result"
    }
   ],
   "source": [
    "train_df_clean.C_previous.unique()"
   ]
  },
  {
   "cell_type": "code",
   "execution_count": 257,
   "metadata": {},
   "outputs": [
    {
     "name": "stdout",
     "output_type": "stream",
     "text": [
      "<class 'pandas.core.frame.DataFrame'>\n",
      "Int64Index: 417447 entries, 0 to 665242\n",
      "Data columns (total 25 columns):\n",
      "customer_id          417447 non-null int64\n",
      "shopping_pt          417447 non-null int64\n",
      "record_type          417447 non-null int64\n",
      "day                  417447 non-null int64\n",
      "time                 417447 non-null object\n",
      "state                417447 non-null category\n",
      "location             417447 non-null int64\n",
      "group_size           417447 non-null int64\n",
      "homeowner            417447 non-null int64\n",
      "car_age              417447 non-null int64\n",
      "car_value            417447 non-null object\n",
      "risk_factor          417447 non-null int64\n",
      "age_oldest           417447 non-null int64\n",
      "age_youngest         417447 non-null int64\n",
      "married_couple       417447 non-null category\n",
      "C_previous           417447 non-null int64\n",
      "duration_previous    417447 non-null float64\n",
      "A                    417447 non-null int64\n",
      "B                    417447 non-null int64\n",
      "C                    417447 non-null int64\n",
      "D                    417447 non-null int64\n",
      "E                    417447 non-null int64\n",
      "F                    417447 non-null int64\n",
      "G                    417447 non-null int64\n",
      "cost                 417447 non-null int64\n",
      "dtypes: category(2), float64(1), int64(20), object(2)\n",
      "memory usage: 77.2+ MB\n"
     ]
    }
   ],
   "source": [
    "train_df_clean['C_previous'] = train_df_clean['C_previous'].astype('int')\n",
    "train_df_clean.info()"
   ]
  },
  {
   "cell_type": "code",
   "execution_count": 193,
   "metadata": {},
   "outputs": [
    {
     "data": {
      "text/plain": [
       "array([ 2., 13.,  3.,  0.,  1., 14.,  5., 15.,  4.,  6., 11.,  9., 10.,\n",
       "        8.,  7., 12.])"
      ]
     },
     "execution_count": 193,
     "metadata": {},
     "output_type": "execute_result"
    }
   ],
   "source": [
    "train_df_clean.duration_previous.unique()"
   ]
  },
  {
   "cell_type": "code",
   "execution_count": 258,
   "metadata": {},
   "outputs": [],
   "source": [
    "train_df_clean['duration_previous']=train_df_clean['duration_previous'].astype('int')"
   ]
  },
  {
   "cell_type": "code",
   "execution_count": 259,
   "metadata": {},
   "outputs": [
    {
     "name": "stdout",
     "output_type": "stream",
     "text": [
      "<class 'pandas.core.frame.DataFrame'>\n",
      "Int64Index: 417447 entries, 0 to 665242\n",
      "Data columns (total 25 columns):\n",
      "customer_id          417447 non-null int64\n",
      "shopping_pt          417447 non-null int64\n",
      "record_type          417447 non-null int64\n",
      "day                  417447 non-null int64\n",
      "time                 417447 non-null object\n",
      "state                417447 non-null category\n",
      "location             417447 non-null int64\n",
      "group_size           417447 non-null int64\n",
      "homeowner            417447 non-null int64\n",
      "car_age              417447 non-null int64\n",
      "car_value            417447 non-null object\n",
      "risk_factor          417447 non-null int64\n",
      "age_oldest           417447 non-null int64\n",
      "age_youngest         417447 non-null int64\n",
      "married_couple       417447 non-null category\n",
      "C_previous           417447 non-null int64\n",
      "duration_previous    417447 non-null int64\n",
      "A                    417447 non-null int64\n",
      "B                    417447 non-null int64\n",
      "C                    417447 non-null int64\n",
      "D                    417447 non-null int64\n",
      "E                    417447 non-null int64\n",
      "F                    417447 non-null int64\n",
      "G                    417447 non-null int64\n",
      "cost                 417447 non-null int64\n",
      "dtypes: category(2), int64(21), object(2)\n",
      "memory usage: 77.2+ MB\n"
     ]
    }
   ],
   "source": [
    "train_df_clean.info()"
   ]
  },
  {
   "cell_type": "code",
   "execution_count": 260,
   "metadata": {},
   "outputs": [
    {
     "data": {
      "text/plain": [
       "array([1, 0, 2])"
      ]
     },
     "execution_count": 260,
     "metadata": {},
     "output_type": "execute_result"
    }
   ],
   "source": [
    "train_df_clean.A.unique()"
   ]
  },
  {
   "cell_type": "code",
   "execution_count": 261,
   "metadata": {},
   "outputs": [
    {
     "data": {
      "text/plain": [
       "3"
      ]
     },
     "execution_count": 261,
     "metadata": {},
     "output_type": "execute_result"
    }
   ],
   "source": [
    "len(train_df_clean.A.unique())"
   ]
  },
  {
   "cell_type": "code",
   "execution_count": 262,
   "metadata": {},
   "outputs": [
    {
     "data": {
      "text/plain": [
       "array([0, 1])"
      ]
     },
     "execution_count": 262,
     "metadata": {},
     "output_type": "execute_result"
    }
   ],
   "source": [
    "train_df_clean.B.unique()"
   ]
  },
  {
   "cell_type": "code",
   "execution_count": 263,
   "metadata": {},
   "outputs": [
    {
     "data": {
      "text/plain": [
       "array([2, 3, 1, 4])"
      ]
     },
     "execution_count": 263,
     "metadata": {},
     "output_type": "execute_result"
    }
   ],
   "source": [
    "train_df_clean.C.unique()"
   ]
  },
  {
   "cell_type": "code",
   "execution_count": 264,
   "metadata": {},
   "outputs": [
    {
     "data": {
      "text/plain": [
       "array([2, 3, 1])"
      ]
     },
     "execution_count": 264,
     "metadata": {},
     "output_type": "execute_result"
    }
   ],
   "source": [
    "train_df_clean.D.unique()"
   ]
  },
  {
   "cell_type": "code",
   "execution_count": 265,
   "metadata": {},
   "outputs": [
    {
     "data": {
      "text/plain": [
       "array([1, 0])"
      ]
     },
     "execution_count": 265,
     "metadata": {},
     "output_type": "execute_result"
    }
   ],
   "source": [
    "train_df_clean.E.unique()"
   ]
  },
  {
   "cell_type": "code",
   "execution_count": 266,
   "metadata": {},
   "outputs": [
    {
     "data": {
      "text/plain": [
       "array([2, 0, 1, 3])"
      ]
     },
     "execution_count": 266,
     "metadata": {},
     "output_type": "execute_result"
    }
   ],
   "source": [
    "train_df_clean.F.unique()"
   ]
  },
  {
   "cell_type": "code",
   "execution_count": 267,
   "metadata": {},
   "outputs": [
    {
     "data": {
      "text/plain": [
       "array([2, 1, 3, 4])"
      ]
     },
     "execution_count": 267,
     "metadata": {},
     "output_type": "execute_result"
    }
   ],
   "source": [
    "train_df_clean.G.unique()"
   ]
  },
  {
   "cell_type": "code",
   "execution_count": 268,
   "metadata": {},
   "outputs": [
    {
     "data": {
      "text/plain": [
       "array([1, 3, 2, 4])"
      ]
     },
     "execution_count": 268,
     "metadata": {},
     "output_type": "execute_result"
    }
   ],
   "source": [
    "train_df_clean.C_previous.unique()"
   ]
  },
  {
   "cell_type": "code",
   "execution_count": 269,
   "metadata": {},
   "outputs": [
    {
     "name": "stdout",
     "output_type": "stream",
     "text": [
      "<class 'pandas.core.frame.DataFrame'>\n",
      "Int64Index: 417447 entries, 0 to 665242\n",
      "Data columns (total 25 columns):\n",
      "customer_id          417447 non-null int64\n",
      "shopping_pt          417447 non-null int64\n",
      "record_type          417447 non-null int64\n",
      "day                  417447 non-null int64\n",
      "time                 417447 non-null object\n",
      "state                417447 non-null category\n",
      "location             417447 non-null int64\n",
      "group_size           417447 non-null int64\n",
      "homeowner            417447 non-null int64\n",
      "car_age              417447 non-null int64\n",
      "car_value            417447 non-null object\n",
      "risk_factor          417447 non-null int64\n",
      "age_oldest           417447 non-null int64\n",
      "age_youngest         417447 non-null int64\n",
      "married_couple       417447 non-null category\n",
      "C_previous           417447 non-null int64\n",
      "duration_previous    417447 non-null int64\n",
      "A                    417447 non-null int64\n",
      "B                    417447 non-null int64\n",
      "C                    417447 non-null int64\n",
      "D                    417447 non-null int64\n",
      "E                    417447 non-null int64\n",
      "F                    417447 non-null int64\n",
      "G                    417447 non-null int64\n",
      "cost                 417447 non-null int64\n",
      "dtypes: category(2), int64(21), object(2)\n",
      "memory usage: 77.2+ MB\n"
     ]
    }
   ],
   "source": [
    "train_df_clean.info()"
   ]
  },
  {
   "cell_type": "code",
   "execution_count": 270,
   "metadata": {},
   "outputs": [
    {
     "data": {
      "text/plain": [
       "0         g\n",
       "1         g\n",
       "2         g\n",
       "3         g\n",
       "4         g\n",
       "         ..\n",
       "665232    g\n",
       "665233    g\n",
       "665240    f\n",
       "665241    f\n",
       "665242    g\n",
       "Name: car_value, Length: 417447, dtype: object"
      ]
     },
     "execution_count": 270,
     "metadata": {},
     "output_type": "execute_result"
    }
   ],
   "source": [
    "train_df_clean['car_value']"
   ]
  },
  {
   "cell_type": "code",
   "execution_count": 271,
   "metadata": {},
   "outputs": [
    {
     "data": {
      "text/plain": [
       "array(['g', 'e', 'd', 'f', 'c', 'h', 'i', 'b', 'a'], dtype=object)"
      ]
     },
     "execution_count": 271,
     "metadata": {},
     "output_type": "execute_result"
    }
   ],
   "source": [
    "train_df_clean.car_value.unique()"
   ]
  },
  {
   "cell_type": "code",
   "execution_count": 272,
   "metadata": {},
   "outputs": [
    {
     "data": {
      "text/plain": [
       "e    135026\n",
       "f    113445\n",
       "d     69283\n",
       "g     63481\n",
       "h     20106\n",
       "c     11911\n",
       "i      2867\n",
       "b       712\n",
       "a       616\n",
       "Name: car_value, dtype: int64"
      ]
     },
     "execution_count": 272,
     "metadata": {},
     "output_type": "execute_result"
    }
   ],
   "source": [
    "train_df_clean['car_value'].value_counts()"
   ]
  },
  {
   "cell_type": "code",
   "execution_count": 274,
   "metadata": {},
   "outputs": [
    {
     "name": "stdout",
     "output_type": "stream",
     "text": [
      "<class 'pandas.core.frame.DataFrame'>\n",
      "Int64Index: 417447 entries, 0 to 665242\n",
      "Data columns (total 25 columns):\n",
      "customer_id          417447 non-null int64\n",
      "shopping_pt          417447 non-null int64\n",
      "record_type          417447 non-null int64\n",
      "day                  417447 non-null int64\n",
      "time                 417447 non-null object\n",
      "state                417447 non-null category\n",
      "location             417447 non-null int64\n",
      "group_size           417447 non-null int64\n",
      "homeowner            417447 non-null int64\n",
      "car_age              417447 non-null int64\n",
      "car_value            417447 non-null category\n",
      "risk_factor          417447 non-null int64\n",
      "age_oldest           417447 non-null int64\n",
      "age_youngest         417447 non-null int64\n",
      "married_couple       417447 non-null category\n",
      "C_previous           417447 non-null int64\n",
      "duration_previous    417447 non-null int64\n",
      "A                    417447 non-null int64\n",
      "B                    417447 non-null int64\n",
      "C                    417447 non-null int64\n",
      "D                    417447 non-null int64\n",
      "E                    417447 non-null int64\n",
      "F                    417447 non-null int64\n",
      "G                    417447 non-null int64\n",
      "cost                 417447 non-null int64\n",
      "dtypes: category(3), int64(21), object(1)\n",
      "memory usage: 74.4+ MB\n"
     ]
    }
   ],
   "source": [
    "train_df_clean['car_value'] = train_df_clean['car_value'].astype('category')\n",
    "train_df_clean.info()"
   ]
  },
  {
   "cell_type": "code",
   "execution_count": 275,
   "metadata": {},
   "outputs": [
    {
     "data": {
      "text/plain": [
       "[IN, NY, WV, MO, PA, ..., MT, NH, DC, WY, SD]\n",
       "Length: 36\n",
       "Categories (36, object): [IN, NY, WV, MO, ..., NH, DC, WY, SD]"
      ]
     },
     "execution_count": 275,
     "metadata": {},
     "output_type": "execute_result"
    }
   ],
   "source": [
    "train_df_clean.state.unique()"
   ]
  },
  {
   "cell_type": "code",
   "execution_count": 276,
   "metadata": {},
   "outputs": [
    {
     "data": {
      "text/plain": [
       "FL    103762\n",
       "NY     89334\n",
       "MD     27557\n",
       "PA     26194\n",
       "IN     23675\n",
       "OH     15656\n",
       "WA     13101\n",
       "CO     10976\n",
       "AL      9883\n",
       "OR      7793\n",
       "TN      7193\n",
       "CT      7139\n",
       "NV      6248\n",
       "ID      5748\n",
       "UT      5603\n",
       "MO      5516\n",
       "KY      5228\n",
       "OK      4728\n",
       "WI      4265\n",
       "GA      4028\n",
       "DE      3972\n",
       "MS      3411\n",
       "NH      3277\n",
       "AR      3154\n",
       "RI      3095\n",
       "NM      2999\n",
       "KS      2442\n",
       "ME      2275\n",
       "WV      2080\n",
       "IA      1697\n",
       "NE      1604\n",
       "MT      1511\n",
       "DC      1078\n",
       "WY       563\n",
       "ND       456\n",
       "SD       206\n",
       "Name: state, dtype: int64"
      ]
     },
     "execution_count": 276,
     "metadata": {},
     "output_type": "execute_result"
    }
   ],
   "source": [
    "train_df_clean['state'].value_counts()"
   ]
  },
  {
   "cell_type": "code",
   "execution_count": 277,
   "metadata": {},
   "outputs": [
    {
     "data": {
      "text/plain": [
       "0    90026\n",
       "1    86350\n",
       "2    83883\n",
       "3    76308\n",
       "4    74723\n",
       "5     5442\n",
       "6      715\n",
       "Name: day, dtype: int64"
      ]
     },
     "execution_count": 277,
     "metadata": {},
     "output_type": "execute_result"
    }
   ],
   "source": [
    "train_df_clean['day'].value_counts()"
   ]
  },
  {
   "cell_type": "code",
   "execution_count": 278,
   "metadata": {},
   "outputs": [
    {
     "data": {
      "text/plain": [
       "10213    974\n",
       "11517    864\n",
       "10030    781\n",
       "12091    730\n",
       "10793    693\n",
       "        ... \n",
       "14702      1\n",
       "16026      1\n",
       "15220      1\n",
       "15862      1\n",
       "15199      1\n",
       "Name: location, Length: 5888, dtype: int64"
      ]
     },
     "execution_count": 278,
     "metadata": {},
     "output_type": "execute_result"
    }
   ],
   "source": [
    "train_df_clean['location'].value_counts()"
   ]
  },
  {
   "cell_type": "code",
   "execution_count": 279,
   "metadata": {},
   "outputs": [
    {
     "data": {
      "text/plain": [
       "1    320197\n",
       "2     90918\n",
       "3      5893\n",
       "4       439\n",
       "Name: group_size, dtype: int64"
      ]
     },
     "execution_count": 279,
     "metadata": {},
     "output_type": "execute_result"
    }
   ],
   "source": [
    "train_df_clean['group_size'].value_counts()"
   ]
  },
  {
   "cell_type": "code",
   "execution_count": 280,
   "metadata": {},
   "outputs": [
    {
     "data": {
      "text/plain": [
       "1    248041\n",
       "0    169406\n",
       "Name: homeowner, dtype: int64"
      ]
     },
     "execution_count": 280,
     "metadata": {},
     "output_type": "execute_result"
    }
   ],
   "source": [
    "train_df_clean['homeowner'].value_counts()"
   ]
  },
  {
   "cell_type": "code",
   "execution_count": 281,
   "metadata": {},
   "outputs": [
    {
     "data": {
      "text/plain": [
       "1     50441\n",
       "2     34040\n",
       "7     28664\n",
       "6     28180\n",
       "8     27678\n",
       "      ...  \n",
       "85        4\n",
       "59        3\n",
       "51        2\n",
       "62        1\n",
       "53        1\n",
       "Name: car_age, Length: 66, dtype: int64"
      ]
     },
     "execution_count": 281,
     "metadata": {},
     "output_type": "execute_result"
    }
   ],
   "source": [
    "train_df_clean['car_age'].value_counts()"
   ]
  },
  {
   "cell_type": "code",
   "execution_count": 282,
   "metadata": {},
   "outputs": [
    {
     "data": {
      "text/plain": [
       "e    135026\n",
       "f    113445\n",
       "d     69283\n",
       "g     63481\n",
       "h     20106\n",
       "c     11911\n",
       "i      2867\n",
       "b       712\n",
       "a       616\n",
       "Name: car_value, dtype: int64"
      ]
     },
     "execution_count": 282,
     "metadata": {},
     "output_type": "execute_result"
    }
   ],
   "source": [
    "train_df_clean['car_value'].value_counts()"
   ]
  },
  {
   "cell_type": "code",
   "execution_count": 283,
   "metadata": {},
   "outputs": [
    {
     "data": {
      "text/plain": [
       "3    114562\n",
       "4    108632\n",
       "1     98472\n",
       "2     95781\n",
       "Name: risk_factor, dtype: int64"
      ]
     },
     "execution_count": 283,
     "metadata": {},
     "output_type": "execute_result"
    }
   ],
   "source": [
    "train_df_clean['risk_factor'].value_counts()"
   ]
  },
  {
   "cell_type": "code",
   "execution_count": 284,
   "metadata": {},
   "outputs": [
    {
     "data": {
      "text/plain": [
       "75    40029\n",
       "25    11944\n",
       "24    11232\n",
       "23    10687\n",
       "26    10645\n",
       "22     9208\n",
       "27     9069\n",
       "28     8461\n",
       "66     7678\n",
       "29     7555\n",
       "55     7501\n",
       "65     7500\n",
       "63     7198\n",
       "30     7133\n",
       "58     7057\n",
       "56     7027\n",
       "59     7016\n",
       "31     6986\n",
       "60     6845\n",
       "62     6830\n",
       "32     6788\n",
       "61     6732\n",
       "70     6717\n",
       "64     6714\n",
       "52     6679\n",
       "49     6675\n",
       "54     6631\n",
       "21     6601\n",
       "53     6597\n",
       "33     6581\n",
       "57     6543\n",
       "51     6478\n",
       "48     6374\n",
       "43     6326\n",
       "50     6171\n",
       "46     6160\n",
       "42     6133\n",
       "67     6088\n",
       "69     6087\n",
       "34     5995\n",
       "44     5901\n",
       "35     5864\n",
       "45     5843\n",
       "71     5786\n",
       "41     5619\n",
       "47     5585\n",
       "68     5503\n",
       "37     5467\n",
       "36     5412\n",
       "40     5396\n",
       "39     5171\n",
       "72     5151\n",
       "38     5083\n",
       "74     4945\n",
       "73     4888\n",
       "20     4582\n",
       "19     3426\n",
       "18     1154\n",
       "Name: age_oldest, dtype: int64"
      ]
     },
     "execution_count": 284,
     "metadata": {},
     "output_type": "execute_result"
    }
   ],
   "source": [
    "train_df_clean['age_oldest'].value_counts()"
   ]
  },
  {
   "cell_type": "code",
   "execution_count": 285,
   "metadata": {},
   "outputs": [
    {
     "data": {
      "text/plain": [
       "75    30795\n",
       "25    13303\n",
       "24    12458\n",
       "23    12124\n",
       "26    11768\n",
       "22    10750\n",
       "27    10053\n",
       "28     9567\n",
       "29     8373\n",
       "21     8364\n",
       "30     7856\n",
       "31     7801\n",
       "32     7412\n",
       "65     7292\n",
       "66     7122\n",
       "55     7043\n",
       "33     6856\n",
       "58     6627\n",
       "62     6558\n",
       "63     6545\n",
       "60     6536\n",
       "56     6453\n",
       "61     6384\n",
       "34     6349\n",
       "35     6327\n",
       "20     6322\n",
       "64     6302\n",
       "59     6243\n",
       "52     6236\n",
       "57     6223\n",
       "54     6155\n",
       "53     6116\n",
       "51     6110\n",
       "49     6059\n",
       "70     5997\n",
       "48     5924\n",
       "42     5806\n",
       "69     5756\n",
       "50     5745\n",
       "46     5732\n",
       "43     5726\n",
       "44     5552\n",
       "37     5527\n",
       "45     5520\n",
       "41     5406\n",
       "36     5396\n",
       "71     5380\n",
       "40     5366\n",
       "38     5320\n",
       "19     5296\n",
       "68     5224\n",
       "39     5186\n",
       "47     5104\n",
       "67     5050\n",
       "72     4463\n",
       "73     4451\n",
       "74     4422\n",
       "18     3149\n",
       "16     2676\n",
       "17     1791\n",
       "Name: age_youngest, dtype: int64"
      ]
     },
     "execution_count": 285,
     "metadata": {},
     "output_type": "execute_result"
    }
   ],
   "source": [
    "train_df_clean['age_youngest'].value_counts()"
   ]
  },
  {
   "cell_type": "code",
   "execution_count": 286,
   "metadata": {},
   "outputs": [
    {
     "data": {
      "text/plain": [
       "0    322944\n",
       "1     94503\n",
       "Name: married_couple, dtype: int64"
      ]
     },
     "execution_count": 286,
     "metadata": {},
     "output_type": "execute_result"
    }
   ],
   "source": [
    "train_df_clean['married_couple'].value_counts()"
   ]
  },
  {
   "cell_type": "code",
   "execution_count": 287,
   "metadata": {},
   "outputs": [
    {
     "data": {
      "text/plain": [
       "15    64736\n",
       "2     44079\n",
       "1     42179\n",
       "3     41620\n",
       "4     35712\n",
       "5     32225\n",
       "6     30164\n",
       "7     26330\n",
       "8     21591\n",
       "9     19175\n",
       "10    13765\n",
       "0     12800\n",
       "11     9480\n",
       "12     8204\n",
       "13     8149\n",
       "14     7238\n",
       "Name: duration_previous, dtype: int64"
      ]
     },
     "execution_count": 287,
     "metadata": {},
     "output_type": "execute_result"
    }
   ],
   "source": [
    "train_df_clean['duration_previous'].value_counts()"
   ]
  },
  {
   "cell_type": "code",
   "execution_count": 288,
   "metadata": {},
   "outputs": [
    {
     "name": "stdout",
     "output_type": "stream",
     "text": [
      "<class 'pandas.core.frame.DataFrame'>\n",
      "Int64Index: 417447 entries, 0 to 665242\n",
      "Data columns (total 25 columns):\n",
      "customer_id          417447 non-null int64\n",
      "shopping_pt          417447 non-null int64\n",
      "record_type          417447 non-null int64\n",
      "day                  417447 non-null int64\n",
      "time                 417447 non-null object\n",
      "state                417447 non-null category\n",
      "location             417447 non-null int64\n",
      "group_size           417447 non-null int64\n",
      "homeowner            417447 non-null int64\n",
      "car_age              417447 non-null int64\n",
      "car_value            417447 non-null category\n",
      "risk_factor          417447 non-null int64\n",
      "age_oldest           417447 non-null int64\n",
      "age_youngest         417447 non-null int64\n",
      "married_couple       417447 non-null category\n",
      "C_previous           417447 non-null int64\n",
      "duration_previous    417447 non-null int64\n",
      "A                    417447 non-null int64\n",
      "B                    417447 non-null int64\n",
      "C                    417447 non-null int64\n",
      "D                    417447 non-null int64\n",
      "E                    417447 non-null int64\n",
      "F                    417447 non-null int64\n",
      "G                    417447 non-null int64\n",
      "cost                 417447 non-null int64\n",
      "dtypes: category(3), int64(21), object(1)\n",
      "memory usage: 74.4+ MB\n"
     ]
    }
   ],
   "source": [
    "train_df_clean.info()"
   ]
  },
  {
   "cell_type": "code",
   "execution_count": 289,
   "metadata": {},
   "outputs": [],
   "source": [
    "train_df_clean['married_couple'] = train_df_clean['married_couple'].astype('category')"
   ]
  },
  {
   "cell_type": "code",
   "execution_count": 290,
   "metadata": {},
   "outputs": [],
   "source": [
    "train_df_clean['state'] = train_df_clean['state'].astype('category')"
   ]
  },
  {
   "cell_type": "code",
   "execution_count": 291,
   "metadata": {},
   "outputs": [
    {
     "name": "stdout",
     "output_type": "stream",
     "text": [
      "customer_id             int64\n",
      "shopping_pt             int64\n",
      "record_type             int64\n",
      "day                     int64\n",
      "time                   object\n",
      "state                category\n",
      "location                int64\n",
      "group_size              int64\n",
      "homeowner               int64\n",
      "car_age                 int64\n",
      "car_value            category\n",
      "risk_factor             int64\n",
      "age_oldest              int64\n",
      "age_youngest            int64\n",
      "married_couple       category\n",
      "C_previous              int64\n",
      "duration_previous       int64\n",
      "A                       int64\n",
      "B                       int64\n",
      "C                       int64\n",
      "D                       int64\n",
      "E                       int64\n",
      "F                       int64\n",
      "G                       int64\n",
      "cost                    int64\n",
      "dtype: object\n"
     ]
    }
   ],
   "source": [
    "print(train_df_clean.dtypes)"
   ]
  },
  {
   "cell_type": "code",
   "execution_count": 292,
   "metadata": {},
   "outputs": [
    {
     "data": {
      "text/plain": [
       "0         1\n",
       "1         1\n",
       "2         1\n",
       "3         1\n",
       "4         1\n",
       "         ..\n",
       "665232    0\n",
       "665233    0\n",
       "665240    0\n",
       "665241    0\n",
       "665242    0\n",
       "Name: married_couple, Length: 417447, dtype: category\n",
       "Categories (2, int64): [0, 1]"
      ]
     },
     "execution_count": 292,
     "metadata": {},
     "output_type": "execute_result"
    }
   ],
   "source": [
    "train_df_clean['married_couple']"
   ]
  },
  {
   "cell_type": "code",
   "execution_count": 293,
   "metadata": {},
   "outputs": [
    {
     "data": {
      "text/plain": [
       "0         IN\n",
       "1         IN\n",
       "2         IN\n",
       "3         IN\n",
       "4         IN\n",
       "          ..\n",
       "665232    FL\n",
       "665233    FL\n",
       "665240    FL\n",
       "665241    FL\n",
       "665242    FL\n",
       "Name: state, Length: 417447, dtype: category\n",
       "Categories (36, object): [AL, AR, CO, CT, ..., WA, WI, WV, WY]"
      ]
     },
     "execution_count": 293,
     "metadata": {},
     "output_type": "execute_result"
    }
   ],
   "source": [
    "train_df_clean['state']"
   ]
  },
  {
   "cell_type": "code",
   "execution_count": 294,
   "metadata": {},
   "outputs": [
    {
     "data": {
      "text/plain": [
       "62255"
      ]
     },
     "execution_count": 294,
     "metadata": {},
     "output_type": "execute_result"
    }
   ],
   "source": [
    "len(train_df_clean[train_df_clean.record_type==1])"
   ]
  },
  {
   "cell_type": "code",
   "execution_count": 300,
   "metadata": {},
   "outputs": [
    {
     "data": {
      "text/plain": [
       "62255"
      ]
     },
     "execution_count": 300,
     "metadata": {},
     "output_type": "execute_result"
    }
   ],
   "source": [
    "len(train_df_clean[train_df_clean.record_type==1].customer_id.unique())"
   ]
  },
  {
   "cell_type": "code",
   "execution_count": 295,
   "metadata": {},
   "outputs": [
    {
     "data": {
      "text/plain": [
       "62978"
      ]
     },
     "execution_count": 295,
     "metadata": {},
     "output_type": "execute_result"
    }
   ],
   "source": [
    "len(train_df_clean.customer_id.unique())"
   ]
  },
  {
   "cell_type": "code",
   "execution_count": 303,
   "metadata": {},
   "outputs": [],
   "source": [
    "#l = train_df_clean[train_df_clean.record_type==1]\n",
    "#l"
   ]
  },
  {
   "cell_type": "markdown",
   "metadata": {},
   "source": [
    "only 62978 records have purchased coverage options out of 62978 unique customer_ids"
   ]
  },
  {
   "cell_type": "code",
   "execution_count": 304,
   "metadata": {},
   "outputs": [
    {
     "data": {
      "text/html": [
       "<div>\n",
       "<style scoped>\n",
       "    .dataframe tbody tr th:only-of-type {\n",
       "        vertical-align: middle;\n",
       "    }\n",
       "\n",
       "    .dataframe tbody tr th {\n",
       "        vertical-align: top;\n",
       "    }\n",
       "\n",
       "    .dataframe thead th {\n",
       "        text-align: right;\n",
       "    }\n",
       "</style>\n",
       "<table border=\"1\" class=\"dataframe\">\n",
       "  <thead>\n",
       "    <tr style=\"text-align: right;\">\n",
       "      <th></th>\n",
       "      <th>customer_id</th>\n",
       "      <th>shopping_pt</th>\n",
       "      <th>record_type</th>\n",
       "      <th>day</th>\n",
       "      <th>time</th>\n",
       "      <th>state</th>\n",
       "      <th>location</th>\n",
       "      <th>group_size</th>\n",
       "      <th>homeowner</th>\n",
       "      <th>car_age</th>\n",
       "      <th>...</th>\n",
       "      <th>C_previous</th>\n",
       "      <th>duration_previous</th>\n",
       "      <th>A</th>\n",
       "      <th>B</th>\n",
       "      <th>C</th>\n",
       "      <th>D</th>\n",
       "      <th>E</th>\n",
       "      <th>F</th>\n",
       "      <th>G</th>\n",
       "      <th>cost</th>\n",
       "    </tr>\n",
       "  </thead>\n",
       "  <tbody>\n",
       "    <tr>\n",
       "      <td>0</td>\n",
       "      <td>10000000</td>\n",
       "      <td>1</td>\n",
       "      <td>0</td>\n",
       "      <td>0</td>\n",
       "      <td>08:35</td>\n",
       "      <td>IN</td>\n",
       "      <td>10001</td>\n",
       "      <td>2</td>\n",
       "      <td>0</td>\n",
       "      <td>2</td>\n",
       "      <td>...</td>\n",
       "      <td>1</td>\n",
       "      <td>2</td>\n",
       "      <td>1</td>\n",
       "      <td>0</td>\n",
       "      <td>2</td>\n",
       "      <td>2</td>\n",
       "      <td>1</td>\n",
       "      <td>2</td>\n",
       "      <td>2</td>\n",
       "      <td>633</td>\n",
       "    </tr>\n",
       "    <tr>\n",
       "      <td>1</td>\n",
       "      <td>10000000</td>\n",
       "      <td>2</td>\n",
       "      <td>0</td>\n",
       "      <td>0</td>\n",
       "      <td>08:38</td>\n",
       "      <td>IN</td>\n",
       "      <td>10001</td>\n",
       "      <td>2</td>\n",
       "      <td>0</td>\n",
       "      <td>2</td>\n",
       "      <td>...</td>\n",
       "      <td>1</td>\n",
       "      <td>2</td>\n",
       "      <td>1</td>\n",
       "      <td>0</td>\n",
       "      <td>2</td>\n",
       "      <td>2</td>\n",
       "      <td>1</td>\n",
       "      <td>2</td>\n",
       "      <td>1</td>\n",
       "      <td>630</td>\n",
       "    </tr>\n",
       "    <tr>\n",
       "      <td>2</td>\n",
       "      <td>10000000</td>\n",
       "      <td>3</td>\n",
       "      <td>0</td>\n",
       "      <td>0</td>\n",
       "      <td>08:38</td>\n",
       "      <td>IN</td>\n",
       "      <td>10001</td>\n",
       "      <td>2</td>\n",
       "      <td>0</td>\n",
       "      <td>2</td>\n",
       "      <td>...</td>\n",
       "      <td>1</td>\n",
       "      <td>2</td>\n",
       "      <td>1</td>\n",
       "      <td>0</td>\n",
       "      <td>2</td>\n",
       "      <td>2</td>\n",
       "      <td>1</td>\n",
       "      <td>2</td>\n",
       "      <td>1</td>\n",
       "      <td>630</td>\n",
       "    </tr>\n",
       "    <tr>\n",
       "      <td>3</td>\n",
       "      <td>10000000</td>\n",
       "      <td>4</td>\n",
       "      <td>0</td>\n",
       "      <td>0</td>\n",
       "      <td>08:39</td>\n",
       "      <td>IN</td>\n",
       "      <td>10001</td>\n",
       "      <td>2</td>\n",
       "      <td>0</td>\n",
       "      <td>2</td>\n",
       "      <td>...</td>\n",
       "      <td>1</td>\n",
       "      <td>2</td>\n",
       "      <td>1</td>\n",
       "      <td>0</td>\n",
       "      <td>2</td>\n",
       "      <td>2</td>\n",
       "      <td>1</td>\n",
       "      <td>2</td>\n",
       "      <td>1</td>\n",
       "      <td>630</td>\n",
       "    </tr>\n",
       "    <tr>\n",
       "      <td>4</td>\n",
       "      <td>10000000</td>\n",
       "      <td>5</td>\n",
       "      <td>0</td>\n",
       "      <td>0</td>\n",
       "      <td>11:55</td>\n",
       "      <td>IN</td>\n",
       "      <td>10001</td>\n",
       "      <td>2</td>\n",
       "      <td>0</td>\n",
       "      <td>2</td>\n",
       "      <td>...</td>\n",
       "      <td>1</td>\n",
       "      <td>2</td>\n",
       "      <td>1</td>\n",
       "      <td>0</td>\n",
       "      <td>2</td>\n",
       "      <td>2</td>\n",
       "      <td>1</td>\n",
       "      <td>2</td>\n",
       "      <td>1</td>\n",
       "      <td>630</td>\n",
       "    </tr>\n",
       "    <tr>\n",
       "      <td>...</td>\n",
       "      <td>...</td>\n",
       "      <td>...</td>\n",
       "      <td>...</td>\n",
       "      <td>...</td>\n",
       "      <td>...</td>\n",
       "      <td>...</td>\n",
       "      <td>...</td>\n",
       "      <td>...</td>\n",
       "      <td>...</td>\n",
       "      <td>...</td>\n",
       "      <td>...</td>\n",
       "      <td>...</td>\n",
       "      <td>...</td>\n",
       "      <td>...</td>\n",
       "      <td>...</td>\n",
       "      <td>...</td>\n",
       "      <td>...</td>\n",
       "      <td>...</td>\n",
       "      <td>...</td>\n",
       "      <td>...</td>\n",
       "      <td>...</td>\n",
       "    </tr>\n",
       "    <tr>\n",
       "      <td>665232</td>\n",
       "      <td>10152720</td>\n",
       "      <td>7</td>\n",
       "      <td>0</td>\n",
       "      <td>3</td>\n",
       "      <td>15:24</td>\n",
       "      <td>FL</td>\n",
       "      <td>14100</td>\n",
       "      <td>1</td>\n",
       "      <td>0</td>\n",
       "      <td>13</td>\n",
       "      <td>...</td>\n",
       "      <td>1</td>\n",
       "      <td>8</td>\n",
       "      <td>1</td>\n",
       "      <td>0</td>\n",
       "      <td>1</td>\n",
       "      <td>2</td>\n",
       "      <td>0</td>\n",
       "      <td>2</td>\n",
       "      <td>3</td>\n",
       "      <td>681</td>\n",
       "    </tr>\n",
       "    <tr>\n",
       "      <td>665233</td>\n",
       "      <td>10152720</td>\n",
       "      <td>8</td>\n",
       "      <td>1</td>\n",
       "      <td>4</td>\n",
       "      <td>08:34</td>\n",
       "      <td>FL</td>\n",
       "      <td>14100</td>\n",
       "      <td>1</td>\n",
       "      <td>0</td>\n",
       "      <td>13</td>\n",
       "      <td>...</td>\n",
       "      <td>1</td>\n",
       "      <td>8</td>\n",
       "      <td>1</td>\n",
       "      <td>0</td>\n",
       "      <td>1</td>\n",
       "      <td>2</td>\n",
       "      <td>0</td>\n",
       "      <td>2</td>\n",
       "      <td>3</td>\n",
       "      <td>681</td>\n",
       "    </tr>\n",
       "    <tr>\n",
       "      <td>665240</td>\n",
       "      <td>10152723</td>\n",
       "      <td>1</td>\n",
       "      <td>0</td>\n",
       "      <td>2</td>\n",
       "      <td>15:13</td>\n",
       "      <td>FL</td>\n",
       "      <td>10711</td>\n",
       "      <td>1</td>\n",
       "      <td>1</td>\n",
       "      <td>0</td>\n",
       "      <td>...</td>\n",
       "      <td>3</td>\n",
       "      <td>2</td>\n",
       "      <td>0</td>\n",
       "      <td>0</td>\n",
       "      <td>2</td>\n",
       "      <td>1</td>\n",
       "      <td>0</td>\n",
       "      <td>0</td>\n",
       "      <td>4</td>\n",
       "      <td>656</td>\n",
       "    </tr>\n",
       "    <tr>\n",
       "      <td>665241</td>\n",
       "      <td>10152723</td>\n",
       "      <td>2</td>\n",
       "      <td>0</td>\n",
       "      <td>2</td>\n",
       "      <td>15:14</td>\n",
       "      <td>FL</td>\n",
       "      <td>10711</td>\n",
       "      <td>1</td>\n",
       "      <td>1</td>\n",
       "      <td>0</td>\n",
       "      <td>...</td>\n",
       "      <td>3</td>\n",
       "      <td>2</td>\n",
       "      <td>1</td>\n",
       "      <td>0</td>\n",
       "      <td>3</td>\n",
       "      <td>3</td>\n",
       "      <td>0</td>\n",
       "      <td>2</td>\n",
       "      <td>3</td>\n",
       "      <td>687</td>\n",
       "    </tr>\n",
       "    <tr>\n",
       "      <td>665242</td>\n",
       "      <td>10152723</td>\n",
       "      <td>3</td>\n",
       "      <td>1</td>\n",
       "      <td>1</td>\n",
       "      <td>10:30</td>\n",
       "      <td>FL</td>\n",
       "      <td>10711</td>\n",
       "      <td>1</td>\n",
       "      <td>1</td>\n",
       "      <td>0</td>\n",
       "      <td>...</td>\n",
       "      <td>3</td>\n",
       "      <td>7</td>\n",
       "      <td>1</td>\n",
       "      <td>0</td>\n",
       "      <td>3</td>\n",
       "      <td>3</td>\n",
       "      <td>1</td>\n",
       "      <td>2</td>\n",
       "      <td>3</td>\n",
       "      <td>651</td>\n",
       "    </tr>\n",
       "  </tbody>\n",
       "</table>\n",
       "<p>414812 rows × 25 columns</p>\n",
       "</div>"
      ],
      "text/plain": [
       "        customer_id  shopping_pt  record_type  day   time state  location  \\\n",
       "0          10000000            1            0    0  08:35    IN     10001   \n",
       "1          10000000            2            0    0  08:38    IN     10001   \n",
       "2          10000000            3            0    0  08:38    IN     10001   \n",
       "3          10000000            4            0    0  08:39    IN     10001   \n",
       "4          10000000            5            0    0  11:55    IN     10001   \n",
       "...             ...          ...          ...  ...    ...   ...       ...   \n",
       "665232     10152720            7            0    3  15:24    FL     14100   \n",
       "665233     10152720            8            1    4  08:34    FL     14100   \n",
       "665240     10152723            1            0    2  15:13    FL     10711   \n",
       "665241     10152723            2            0    2  15:14    FL     10711   \n",
       "665242     10152723            3            1    1  10:30    FL     10711   \n",
       "\n",
       "        group_size  homeowner  car_age  ... C_previous  duration_previous  A  \\\n",
       "0                2          0        2  ...          1                  2  1   \n",
       "1                2          0        2  ...          1                  2  1   \n",
       "2                2          0        2  ...          1                  2  1   \n",
       "3                2          0        2  ...          1                  2  1   \n",
       "4                2          0        2  ...          1                  2  1   \n",
       "...            ...        ...      ...  ...        ...                ... ..   \n",
       "665232           1          0       13  ...          1                  8  1   \n",
       "665233           1          0       13  ...          1                  8  1   \n",
       "665240           1          1        0  ...          3                  2  0   \n",
       "665241           1          1        0  ...          3                  2  1   \n",
       "665242           1          1        0  ...          3                  7  1   \n",
       "\n",
       "        B  C  D  E  F  G  cost  \n",
       "0       0  2  2  1  2  2   633  \n",
       "1       0  2  2  1  2  1   630  \n",
       "2       0  2  2  1  2  1   630  \n",
       "3       0  2  2  1  2  1   630  \n",
       "4       0  2  2  1  2  1   630  \n",
       "...    .. .. .. .. .. ..   ...  \n",
       "665232  0  1  2  0  2  3   681  \n",
       "665233  0  1  2  0  2  3   681  \n",
       "665240  0  2  1  0  0  4   656  \n",
       "665241  0  3  3  0  2  3   687  \n",
       "665242  0  3  3  1  2  3   651  \n",
       "\n",
       "[414812 rows x 25 columns]"
      ]
     },
     "execution_count": 304,
     "metadata": {},
     "output_type": "execute_result"
    }
   ],
   "source": [
    "train_df_p = train_df_clean[train_df_clean['customer_id'].isin(train_df_clean[train_df_clean.record_type==1].customer_id)]\n",
    "train_df_p"
   ]
  },
  {
   "cell_type": "code",
   "execution_count": 305,
   "metadata": {},
   "outputs": [
    {
     "data": {
      "text/plain": [
       "62255"
      ]
     },
     "execution_count": 305,
     "metadata": {},
     "output_type": "execute_result"
    }
   ],
   "source": [
    "len(train_df_p.customer_id.unique())"
   ]
  },
  {
   "cell_type": "code",
   "execution_count": 306,
   "metadata": {},
   "outputs": [
    {
     "name": "stdout",
     "output_type": "stream",
     "text": [
      "<class 'pandas.core.frame.DataFrame'>\n",
      "Int64Index: 414812 entries, 0 to 665242\n",
      "Data columns (total 25 columns):\n",
      "customer_id          414812 non-null int64\n",
      "shopping_pt          414812 non-null int64\n",
      "record_type          414812 non-null int64\n",
      "day                  414812 non-null int64\n",
      "time                 414812 non-null object\n",
      "state                414812 non-null category\n",
      "location             414812 non-null int64\n",
      "group_size           414812 non-null int64\n",
      "homeowner            414812 non-null int64\n",
      "car_age              414812 non-null int64\n",
      "car_value            414812 non-null category\n",
      "risk_factor          414812 non-null int64\n",
      "age_oldest           414812 non-null int64\n",
      "age_youngest         414812 non-null int64\n",
      "married_couple       414812 non-null category\n",
      "C_previous           414812 non-null int64\n",
      "duration_previous    414812 non-null int64\n",
      "A                    414812 non-null int64\n",
      "B                    414812 non-null int64\n",
      "C                    414812 non-null int64\n",
      "D                    414812 non-null int64\n",
      "E                    414812 non-null int64\n",
      "F                    414812 non-null int64\n",
      "G                    414812 non-null int64\n",
      "cost                 414812 non-null int64\n",
      "dtypes: category(3), int64(21), object(1)\n",
      "memory usage: 74.0+ MB\n"
     ]
    }
   ],
   "source": [
    "train_df_p.info()"
   ]
  },
  {
   "cell_type": "code",
   "execution_count": null,
   "metadata": {},
   "outputs": [],
   "source": []
  },
  {
   "cell_type": "code",
   "execution_count": null,
   "metadata": {},
   "outputs": [],
   "source": []
  }
 ],
 "metadata": {
  "kernelspec": {
   "display_name": "Python 3",
   "language": "python",
   "name": "python3"
  },
  "language_info": {
   "codemirror_mode": {
    "name": "ipython",
    "version": 3
   },
   "file_extension": ".py",
   "mimetype": "text/x-python",
   "name": "python",
   "nbconvert_exporter": "python",
   "pygments_lexer": "ipython3",
   "version": "3.7.4"
  }
 },
 "nbformat": 4,
 "nbformat_minor": 2
}
